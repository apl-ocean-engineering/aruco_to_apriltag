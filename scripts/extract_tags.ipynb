{
 "cells": [
  {
   "cell_type": "markdown",
   "metadata": {},
   "source": [
    "# Extract Tags\n",
    "This is a notebook to extract images from a ROS 1 bagfile, detect the aruco markers, and output a bag of AprilTag detections."
   ]
  },
  {
   "cell_type": "code",
   "execution_count": 40,
   "metadata": {},
   "outputs": [],
   "source": [
    "#!/usr/bin/env python3\n",
    "\n",
    "from rosbags.highlevel import AnyReader\n",
    "from rosbags.image import message_to_cvimage\n",
    "from pathlib import Path\n",
    "import numpy as np\n",
    "import matplotlib.pyplot as plt\n",
    "import cv2\n",
    "from apriltag_msgs.msg import ApriltagArrayStamped, Apriltag\n",
    "from geometry_msgs.msg import Point\n",
    "import rospy\n",
    "import rosbag\n",
    "\n",
    "# Set up paths\n",
    "bag_file_path = '/home/asekar/Documents/trisect_ws/src/trisect_data/2023-07-21_head_orbit/cropped.bag'\n",
    "output_bag_path = '/home/asekar/test/fiducial_ws/src/aruco_to_apriltag/output/apriltag_output.bag'\n",
    "image_topic = '/trisect/stereo/left/image_rect'"
   ]
  },
  {
   "cell_type": "code",
   "execution_count": 41,
   "metadata": {},
   "outputs": [],
   "source": [
    "def extract_and_generate_apriltag_msgs(bag_file_path, image_topic, encoding=\"bgr8\"):\n",
    "\n",
    "    # Set up the ArUco dictionary and parameters for detection\n",
    "    aruco_dict = cv2.aruco.getPredefinedDictionary(cv2.aruco.DICT_4X4_250)\n",
    "    parameters = cv2.aruco.DetectorParameters()\n",
    "    detector = cv2.aruco.ArucoDetector(aruco_dict, parameters)\n",
    "\n",
    "    out_bag = rosbag.Bag(output_bag_path, 'w')  # Open output bag for writing\n",
    "\n",
    "    # Open the bag file with AnyReader\n",
    "    with AnyReader([Path(bag_file_path)]) as reader:\n",
    "        connections = [x for x in reader.connections if x.topic == image_topic]\n",
    "        \n",
    "        for connection, timestamp, rawdata in reader.messages(connections=connections):\n",
    "            # Deserialize the message\n",
    "            msg = reader.deserialize(rawdata, connection.msgtype)\n",
    "            \n",
    "            # Convert ROS message to OpenCV image\n",
    "            cv_image = message_to_cvimage(msg, encoding)\n",
    "            \n",
    "            # Detect ArUco markers\n",
    "            corners, ids, rejected = detector.detectMarkers(cv_image)\n",
    "            \n",
    "            # Draw detected markers on the image\n",
    "            if ids is not None:\n",
    "                cv_image = cv2.aruco.drawDetectedMarkers(cv_image, corners, ids)\n",
    "\n",
    "                # Create the ApriltagArrayStamped message\n",
    "                apriltag_array_msg = ApriltagArrayStamped()\n",
    "                apriltag_array_msg.header.stamp = msg.header.stamp  \n",
    "                apriltag_array_msg.header.frame_id = \"camera_frame\"  # Update this to match your frame\n",
    "\n",
    "                # Loop over detected ArUco markers to populate ApriltagArrayStamped\n",
    "                for i, corner in enumerate(corners):\n",
    "                    apriltag_msg = Apriltag()\n",
    "                    apriltag_msg.id = int(ids[i])\n",
    "                    apriltag_msg.family = \"4X4_250\"\n",
    "                    \n",
    "                    # Calculate the center point as the average of the corners\n",
    "                    center_x = sum([c[0] for c in corner[0]]) / 4.0\n",
    "                    center_y = sum([c[1] for c in corner[0]]) / 4.0\n",
    "                    apriltag_msg.center = Point(center_x, center_y, 0)\n",
    "\n",
    "                    # Set the corners in the apriltag_msg\n",
    "                    apriltag_msg.corners = [\n",
    "                        Point(c[0], c[1], 0) for c in corner[0]\n",
    "                    ]\n",
    "\n",
    "                    # Add to the array message\n",
    "                    apriltag_array_msg.apriltags.append(apriltag_msg)\n",
    "                \n",
    "                # Convert to rospy.Time explicitly\n",
    "                ros_time = rospy.Time(msg.header.stamp.sec, msg.header.stamp.nanosec)\n",
    "                \n",
    "                # Assign this rospy.Time object to apriltag_array_msg.header.stamp\n",
    "                apriltag_array_msg.header.stamp = ros_time\n",
    "                \n",
    "                # Write the message with the converted timestamp\n",
    "                out_bag.write('/apriltag_detections', apriltag_array_msg, t=ros_time)\n",
    "                # print(f\"Written ApriltagArrayStamped message at time: {ros_time.to_sec()}\")\n",
    "            \n",
    "            # # Display the image with detected markers\n",
    "            # plt.imshow(cv2.cvtColor(cv_image, cv2.COLOR_BGR2RGB))\n",
    "            # plt.axis('off')\n",
    "            # plt.show()\n",
    "\n",
    "    out_bag.close()\n",
    "    print(f\"Output bag written to: {output_bag_path}\")\n"
   ]
  },
  {
   "cell_type": "code",
   "execution_count": 42,
   "metadata": {},
   "outputs": [
    {
     "name": "stdout",
     "output_type": "stream",
     "text": [
      "Output bag written to: /home/asekar/test/fiducial_ws/src/aruco_to_apriltag/output/apriltag_output.bag\n"
     ]
    }
   ],
   "source": [
    "extract_and_generate_apriltag_msgs(bag_file_path, image_topic)"
   ]
  }
 ],
 "metadata": {
  "kernelspec": {
   "display_name": "Python 3 (ipykernel)",
   "language": "python",
   "name": "python3"
  },
  "language_info": {
   "codemirror_mode": {
    "name": "ipython",
    "version": 3
   },
   "file_extension": ".py",
   "mimetype": "text/x-python",
   "name": "python",
   "nbconvert_exporter": "python",
   "pygments_lexer": "ipython3",
   "version": "3.8.10"
  }
 },
 "nbformat": 4,
 "nbformat_minor": 4
}
